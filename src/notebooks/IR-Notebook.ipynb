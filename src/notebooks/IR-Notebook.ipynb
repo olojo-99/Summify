{
 "cells": [
  {
   "cell_type": "code",
   "execution_count": 2,
   "id": "d33b444d",
   "metadata": {},
   "outputs": [],
   "source": [
    "import spacy\n",
    "import pytextrank\n",
    "from googleapiclient.discovery import build\n",
    "import re\n",
    "import os\n",
    "\n",
    "from spacy.tokens import Span\n",
    "from dotenv import load_dotenv"
   ]
  },
  {
   "cell_type": "markdown",
   "id": "3f39f567",
   "metadata": {},
   "source": [
    "### Fact Extraction"
   ]
  },
  {
   "cell_type": "code",
   "execution_count": 3,
   "id": "b91d0aaa",
   "metadata": {},
   "outputs": [],
   "source": [
    "@spacy.registry.misc(\"plural_scrubber\")\n",
    "def plural_scrubber():\n",
    "    def scrubber_func(span: Span) -> str:\n",
    "#         singular_form = \" \".join([token.lemma_ for token in span])\n",
    "#         return singular_form\n",
    "        return span.lemma_\n",
    "    return scrubber_func\n",
    "\n",
    "# Load summary input for fact extraction\n",
    "with open(\"text.txt\") as text:\n",
    "    overall = text.read()\n",
    "    \n",
    "# Load a spaCy model\n",
    "nlp = spacy.load(\"en_core_web_lg\")\n",
    "\n",
    "# Exclude stopwords that could be generated due to completion prompt\n",
    "nlp.Defaults.stop_words |= {\"transcript\", \"passage\", \"extract\", \"term\", \"video\"}\n",
    "\n",
    "# Add TopicRank component to pipeline with stopwords\n",
    "nlp.add_pipe(\"topicrank\", config={\n",
    "                        \"stopwords\": {token:[\"NOUN\"] for token in nlp.Defaults.stop_words},\n",
    "                        \"scrubber\": {\"@misc\": \"plural_scrubber\"}})\n",
    "\n",
    "# Perform fact extraction on overall summary and segment summaries\n",
    "doc2 = nlp(overall)\n",
    "\n",
    "# Create unique list of top 4 ranked phrases\n",
    "phrases = {phrase.text for phrase in doc2._.phrases[:5]}\n",
    "\n",
    "# for phrase in doc2._.phrases[:5]:\n",
    "#     print(f\"{phrase.text}, {phrase.rank}\\n\")\n"
   ]
  },
  {
   "cell_type": "code",
   "execution_count": 5,
   "id": "99b85053",
   "metadata": {},
   "outputs": [
    {
     "name": "stdout",
     "output_type": "stream",
     "text": [
      "{'man', 'machine', 'game', 'electronic computer'}\n"
     ]
    }
   ],
   "source": [
    "print(phrases)\n",
    "    \n",
    "# nlp.analyze_pipes(pretty=True)\n",
    "\n",
    "# print([w.lemma_ for w in doc2])"
   ]
  },
  {
   "cell_type": "markdown",
   "id": "a7aa69f2",
   "metadata": {},
   "source": [
    "### Information Retrieval"
   ]
  },
  {
   "cell_type": "code",
   "execution_count": 6,
   "id": "c22ed3aa",
   "metadata": {},
   "outputs": [
    {
     "ename": "NameError",
     "evalue": "name 'os' is not defined",
     "output_type": "error",
     "traceback": [
      "\u001b[0;31m---------------------------------------------------------------------------\u001b[0m",
      "\u001b[0;31mNameError\u001b[0m                                 Traceback (most recent call last)",
      "Input \u001b[0;32mIn [6]\u001b[0m, in \u001b[0;36m<cell line: 3>\u001b[0;34m()\u001b[0m\n\u001b[1;32m      1\u001b[0m \u001b[38;5;66;03m# query google custom search engine for search results\u001b[39;00m\n\u001b[1;32m      2\u001b[0m load_dotenv()  \u001b[38;5;66;03m# take environment variables from .env\u001b[39;00m\n\u001b[0;32m----> 3\u001b[0m google_key \u001b[38;5;241m=\u001b[39m \u001b[43mos\u001b[49m\u001b[38;5;241m.\u001b[39mgetenv(\u001b[38;5;124m\"\u001b[39m\u001b[38;5;124mG_KEY\u001b[39m\u001b[38;5;124m\"\u001b[39m)\n\u001b[1;32m      4\u001b[0m google_cx \u001b[38;5;241m=\u001b[39m os\u001b[38;5;241m.\u001b[39mgetenv(\u001b[38;5;124m\"\u001b[39m\u001b[38;5;124mG_CX\u001b[39m\u001b[38;5;124m\"\u001b[39m)\n\u001b[1;32m      6\u001b[0m service \u001b[38;5;241m=\u001b[39m build(\u001b[38;5;124m\"\u001b[39m\u001b[38;5;124mcustomsearch\u001b[39m\u001b[38;5;124m\"\u001b[39m, \u001b[38;5;124m\"\u001b[39m\u001b[38;5;124mv1\u001b[39m\u001b[38;5;124m\"\u001b[39m, developerKey\u001b[38;5;241m=\u001b[39mgoogle_key)\n",
      "\u001b[0;31mNameError\u001b[0m: name 'os' is not defined"
     ]
    }
   ],
   "source": [
    "# query google custom search engine for search results\n",
    "load_dotenv()  # take environment variables from .env\n",
    "google_key = os.getenv(\"G_KEY\")\n",
    "google_cx = os.getenv(\"G_CX\")\n",
    "\n",
    "service = build(\"customsearch\", \"v1\", developerKey=google_key)\n",
    "\n",
    "results = []\n",
    "for term in phrases:\n",
    "    resources = {}\n",
    "    # make search through search engine api\n",
    "    data = service.cse().list(\n",
    "                            q=term,\n",
    "                            cx=google_cx,\n",
    "                            num=1,\n",
    "                            siteSearch=\"wikipedia.org\",\n",
    "                            siteSearchFilter=\"i\"\n",
    "                            ).execute()\n",
    "    \n",
    "    # add resultant page title, link and icon to dict\n",
    "    resources['title'], resources['url'] = data['items'][0]['title'], data['items'][0]['link']\n",
    "    resources['icon'] = \"/\".join( (data['items'][0]['link']).split(\"/\")[:3] ) + \"/favicon.ico\"\n",
    "    results.append(resources)\n",
    "\n",
    "print(results)"
   ]
  }
 ],
 "metadata": {
  "kernelspec": {
   "display_name": "myenviron",
   "language": "python",
   "name": "myenviron"
  },
  "language_info": {
   "codemirror_mode": {
    "name": "ipython",
    "version": 3
   },
   "file_extension": ".py",
   "mimetype": "text/x-python",
   "name": "python",
   "nbconvert_exporter": "python",
   "pygments_lexer": "ipython3",
   "version": "3.10.4"
  }
 },
 "nbformat": 4,
 "nbformat_minor": 5
}
